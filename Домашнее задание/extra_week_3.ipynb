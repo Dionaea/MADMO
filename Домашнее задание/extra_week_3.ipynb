{
 "cells": [
  {
   "cell_type": "markdown",
   "metadata": {},
   "source": [
    "# Multi-Label Classification Strategies\n",
    "In this task you deal with multiclass classification problem for [Glass Classification Data](https://www.kaggle.com/uciml/glass). Lets load the dataset."
   ]
  },
  {
   "cell_type": "code",
   "execution_count": 1,
   "metadata": {},
   "outputs": [
    {
     "name": "stderr",
     "output_type": "stream",
     "text": [
      "\"wget\" ­Ґ пў«пҐвбп ў­гваҐ­­Ґ© Ё«Ё ў­Ґи­Ґ©\n",
      "Є®¬ ­¤®©, ЁбЇ®«­пҐ¬®© Їа®Ја ¬¬®© Ё«Ё Ї ЄҐв­л¬ д ©«®¬.\n"
     ]
    }
   ],
   "source": [
    "# если вы работаете в Colab то запустите эти строчки\n",
    "\n",
    "#! wget https://raw.githubusercontent.com/aminovT/MADMO/blob/main/%D0%94%D0%BE%D0%BC%D0%B0%D1%88%D0%BD%D0%B5%D0%B5%20%D0%B7%D0%B0%D0%B4%D0%B0%D0%BD%D0%B8%D0%B5/data/glass.csv\n",
    "  \n",
    "# ! mkdir data\n",
    "\n",
    "# ! mv glass.csv data"
   ]
  },
  {
   "cell_type": "code",
   "execution_count": 1,
   "metadata": {},
   "outputs": [],
   "source": [
    "import pandas as pd"
   ]
  },
  {
   "cell_type": "code",
   "execution_count": 2,
   "metadata": {},
   "outputs": [
    {
     "data": {
      "text/html": [
       "<div>\n",
       "<style scoped>\n",
       "    .dataframe tbody tr th:only-of-type {\n",
       "        vertical-align: middle;\n",
       "    }\n",
       "\n",
       "    .dataframe tbody tr th {\n",
       "        vertical-align: top;\n",
       "    }\n",
       "\n",
       "    .dataframe thead th {\n",
       "        text-align: right;\n",
       "    }\n",
       "</style>\n",
       "<table border=\"1\" class=\"dataframe\">\n",
       "  <thead>\n",
       "    <tr style=\"text-align: right;\">\n",
       "      <th></th>\n",
       "      <th>RI</th>\n",
       "      <th>Na</th>\n",
       "      <th>Mg</th>\n",
       "      <th>Al</th>\n",
       "      <th>Si</th>\n",
       "      <th>K</th>\n",
       "      <th>Ca</th>\n",
       "      <th>Ba</th>\n",
       "      <th>Fe</th>\n",
       "      <th>Type</th>\n",
       "    </tr>\n",
       "  </thead>\n",
       "  <tbody>\n",
       "    <tr>\n",
       "      <th>119</th>\n",
       "      <td>1.51652</td>\n",
       "      <td>13.56</td>\n",
       "      <td>3.57</td>\n",
       "      <td>1.47</td>\n",
       "      <td>72.45</td>\n",
       "      <td>0.64</td>\n",
       "      <td>7.96</td>\n",
       "      <td>0.0</td>\n",
       "      <td>0.00</td>\n",
       "      <td>2</td>\n",
       "    </tr>\n",
       "    <tr>\n",
       "      <th>98</th>\n",
       "      <td>1.51689</td>\n",
       "      <td>12.67</td>\n",
       "      <td>2.88</td>\n",
       "      <td>1.71</td>\n",
       "      <td>73.21</td>\n",
       "      <td>0.73</td>\n",
       "      <td>8.54</td>\n",
       "      <td>0.0</td>\n",
       "      <td>0.00</td>\n",
       "      <td>2</td>\n",
       "    </tr>\n",
       "    <tr>\n",
       "      <th>125</th>\n",
       "      <td>1.51872</td>\n",
       "      <td>12.93</td>\n",
       "      <td>3.66</td>\n",
       "      <td>1.56</td>\n",
       "      <td>72.51</td>\n",
       "      <td>0.58</td>\n",
       "      <td>8.55</td>\n",
       "      <td>0.0</td>\n",
       "      <td>0.12</td>\n",
       "      <td>2</td>\n",
       "    </tr>\n",
       "  </tbody>\n",
       "</table>\n",
       "</div>"
      ],
      "text/plain": [
       "          RI     Na    Mg    Al     Si     K    Ca   Ba    Fe  Type\n",
       "119  1.51652  13.56  3.57  1.47  72.45  0.64  7.96  0.0  0.00     2\n",
       "98   1.51689  12.67  2.88  1.71  73.21  0.73  8.54  0.0  0.00     2\n",
       "125  1.51872  12.93  3.66  1.56  72.51  0.58  8.55  0.0  0.12     2"
      ]
     },
     "execution_count": 2,
     "metadata": {},
     "output_type": "execute_result"
    }
   ],
   "source": [
    "data = pd.read_csv('data/glass.csv')\n",
    "X, y = data.drop('Type', axis=1), data.Type\n",
    "data.sample(3)"
   ]
  },
  {
   "cell_type": "code",
   "execution_count": 32,
   "metadata": {},
   "outputs": [
    {
     "data": {
      "text/plain": [
       "(214, 9)"
      ]
     },
     "execution_count": 32,
     "metadata": {},
     "output_type": "execute_result"
    }
   ],
   "source": [
    "X.shape"
   ]
  },
  {
   "cell_type": "code",
   "execution_count": 3,
   "metadata": {
    "scrolled": true
   },
   "outputs": [
    {
     "data": {
      "text/plain": [
       "2    76\n",
       "1    70\n",
       "7    29\n",
       "3    17\n",
       "5    13\n",
       "6     9\n",
       "Name: Type, dtype: int64"
      ]
     },
     "execution_count": 3,
     "metadata": {},
     "output_type": "execute_result"
    }
   ],
   "source": [
    "y.value_counts()"
   ]
  },
  {
   "cell_type": "code",
   "execution_count": 38,
   "metadata": {},
   "outputs": [
    {
     "data": {
      "text/plain": [
       "2    0.355140\n",
       "1    0.327103\n",
       "7    0.135514\n",
       "3    0.079439\n",
       "5    0.060748\n",
       "6    0.042056\n",
       "Name: Type, dtype: float64"
      ]
     },
     "execution_count": 38,
     "metadata": {},
     "output_type": "execute_result"
    }
   ],
   "source": [
    "y.value_counts() / len(y)"
   ]
  },
  {
   "cell_type": "markdown",
   "metadata": {},
   "source": [
    "Признаки каждого стеклянного объекта соответствуют доле конкретного химического элемента в объекте. Целевая переменная соответствует типу стекла (6 классов).\n",
    "\n",
    "В этой задаче вам необходимо эмпирически сравнить временную сложность и производительность нескольких стратегий мультиклассовой классификации для разных алгоритмов. Рассмотрим следующие алгоритмы:\n",
    "* KNearestNeighbors (5 neighbors)\n",
    "* Logistic Regression\n",
    "* SVC \\[Support Vector Classification\\] (linear kernel)\n",
    "\n",
    "Обратите внимание, что все эти алгоритмы по умолчанию поддерживают **multiclass labeling**. Тем не менее, сравните этот подход с **OneVSRest** и **OneVSOne** подходы, применяемые к этим алгоритмам. Точнее, для каждой пары (алгоритм, подход) выполните 5-кратную перекрестную проверку данных и выведите оценку проверки и время вычисления (в виде таблицы).\n",
    "\n",
    "\n",
    "Обратите внимание, что набор данных является одновременно многоклассовым и несбалансированным, поэтому важно выбрать правильную оценку качества. Попробуйте разные показатели для оптимизации во время CV (например, точность, сбалансированная точность, f1, roc-auc).\n",
    "\n",
    "\n",
    "После этого ответьте на следующие вопросы:\n",
    "* Какой показатель вы бы выбрали для оптимизации во время перекрестной проверки и почему?\n",
    "* Для каких алгоритмов использование подхода OneVSRest / OneVSOne обеспечивает значительно лучшую производительность без значительного увеличения времени вычислений?"
   ]
  },
  {
   "cell_type": "code",
   "execution_count": 5,
   "metadata": {},
   "outputs": [],
   "source": [
    "# proper way to measure performance in modern Python! No time.time()!\n",
    "# see https://docs.python.org/3/library/time.html#time.perf_counter\n",
    "from time import perf_counter\n",
    "\n",
    "# funct to properly display numpy arrays inline, use instead of print\n",
    "from IPython.display import display\n",
    "\n",
    "from sklearn.multiclass import OneVsOneClassifier, OneVsRestClassifier"
   ]
  },
  {
   "cell_type": "code",
   "execution_count": 8,
   "metadata": {},
   "outputs": [],
   "source": [
    "from tqdm import tqdm_notebook"
   ]
  },
  {
   "cell_type": "code",
   "execution_count": 6,
   "metadata": {},
   "outputs": [],
   "source": [
    "from sklearn.neighbors import KNeighborsClassifier\n",
    "from sklearn.linear_model import LogisticRegression\n",
    "from sklearn.svm import SVC"
   ]
  },
  {
   "cell_type": "code",
   "execution_count": 7,
   "metadata": {},
   "outputs": [],
   "source": [
    "from sklearn.model_selection import cross_validate"
   ]
  },
  {
   "cell_type": "code",
   "execution_count": 21,
   "metadata": {},
   "outputs": [],
   "source": [
    "import numpy as np"
   ]
  },
  {
   "cell_type": "code",
   "execution_count": 13,
   "metadata": {},
   "outputs": [],
   "source": [
    "import psutil"
   ]
  },
  {
   "cell_type": "code",
   "execution_count": 15,
   "metadata": {
    "scrolled": true
   },
   "outputs": [
    {
     "data": {
      "text/plain": [
       "(4, 38.6)"
      ]
     },
     "execution_count": 15,
     "metadata": {},
     "output_type": "execute_result"
    }
   ],
   "source": [
    "psutil.cpu_count(), psutil.cpu_percent()"
   ]
  },
  {
   "cell_type": "code",
   "execution_count": 73,
   "metadata": {},
   "outputs": [
    {
     "name": "stderr",
     "output_type": "stream",
     "text": [
      "D:\\Anaconda\\lib\\site-packages\\ipykernel_launcher.py:6: TqdmDeprecationWarning: This function will be removed in tqdm==5.0.0\n",
      "Please use `tqdm.notebook.tqdm` instead of `tqdm.tqdm_notebook`\n",
      "  \n"
     ]
    },
    {
     "data": {
      "application/vnd.jupyter.widget-view+json": {
       "model_id": "42f23999aba64d8c93f68dc56fea96f5",
       "version_major": 2,
       "version_minor": 0
      },
      "text/plain": [
       "HBox(children=(FloatProgress(value=0.0, max=3.0), HTML(value='')))"
      ]
     },
     "metadata": {},
     "output_type": "display_data"
    },
    {
     "name": "stderr",
     "output_type": "stream",
     "text": [
      "[Parallel(n_jobs=2)]: Using backend LokyBackend with 2 concurrent workers.\n",
      "[Parallel(n_jobs=2)]: Done   5 out of   5 | elapsed:    0.4s finished\n",
      "[Parallel(n_jobs=2)]: Using backend LokyBackend with 2 concurrent workers.\n",
      "[Parallel(n_jobs=2)]: Done   5 out of   5 | elapsed:    0.2s finished\n",
      "[Parallel(n_jobs=2)]: Using backend LokyBackend with 2 concurrent workers.\n",
      "[Parallel(n_jobs=2)]: Done   5 out of   5 | elapsed:    0.0s finished\n",
      "[Parallel(n_jobs=2)]: Using backend LokyBackend with 2 concurrent workers.\n",
      "[Parallel(n_jobs=2)]: Done   5 out of   5 | elapsed:    1.4s finished\n",
      "[Parallel(n_jobs=2)]: Using backend LokyBackend with 2 concurrent workers.\n",
      "[Parallel(n_jobs=2)]: Done   5 out of   5 | elapsed:    0.6s finished\n",
      "[Parallel(n_jobs=2)]: Using backend LokyBackend with 2 concurrent workers.\n",
      "[Parallel(n_jobs=2)]: Done   5 out of   5 | elapsed:    0.2s finished\n",
      "[Parallel(n_jobs=2)]: Using backend LokyBackend with 2 concurrent workers.\n",
      "[Parallel(n_jobs=2)]: Done   5 out of   5 | elapsed:    0.2s finished\n",
      "[Parallel(n_jobs=2)]: Using backend LokyBackend with 2 concurrent workers.\n"
     ]
    },
    {
     "name": "stdout",
     "output_type": "stream",
     "text": [
      "\n"
     ]
    },
    {
     "name": "stderr",
     "output_type": "stream",
     "text": [
      "[Parallel(n_jobs=2)]: Done   5 out of   5 | elapsed:    0.3s finished\n",
      "[Parallel(n_jobs=2)]: Using backend LokyBackend with 2 concurrent workers.\n",
      "[Parallel(n_jobs=2)]: Done   5 out of   5 | elapsed:    0.1s finished\n"
     ]
    }
   ],
   "source": [
    "# your code here\n",
    "clf_list = [KNeighborsClassifier(5), LogisticRegression(), SVC(kernel='linear', probability=True)]\n",
    "scoring = ['balanced_accuracy','f1_macro', 'f1_weighted', 'roc_auc_ovr_weighted', 'roc_auc_ovo_weighted']\n",
    "score = []\n",
    "\n",
    "for clf in tqdm_notebook(clf_list):\n",
    "    ovo_start = perf_counter()\n",
    "    cv_ovo = cross_validate(OneVsOneClassifier(clf), X, y, cv=5, scoring=scoring[:-2], \n",
    "                                     verbose=True, n_jobs=2)\n",
    "    ovo_finish = perf_counter()\n",
    "    score.append({'classifier': clf, \n",
    "                  'mode': 'ovo',\n",
    "                  'time': ovo_finish - ovo_start,  \n",
    "#                   'roc auc': np.mean(cv_ovo['test_roc_auc_ovr']), \n",
    "                  'f1 macro': np.mean(cv_ovo['test_f1_macro']), \n",
    "                  'f1 weighted': np.mean(cv_ovo['test_f1_weighted']),  \n",
    "                  'balanced accuracy': np.mean(cv_ovo['test_balanced_accuracy'])})\n",
    "\n",
    "    ovr_start = perf_counter()\n",
    "    cv_ovr = cross_validate(OneVsRestClassifier(clf), X, y, cv=5, scoring=scoring, \n",
    "                            verbose=True, n_jobs=2)\n",
    "    ovr_finish = perf_counter()\n",
    "    score.append({'classifier': clf, \n",
    "                  'mode':'ovr',\n",
    "                  'time': ovr_finish - ovr_start,  \n",
    "                  'roc auc ovr': np.mean(cv_ovr['test_roc_auc_ovr_weighted']),\n",
    "                  'roc auc ovo': np.mean(cv_ovr['test_roc_auc_ovo_weighted']),\n",
    "                  'f1 macro': np.mean(cv_ovr['test_f1_macro']), \n",
    "                  'f1 weighted': np.mean(cv_ovr['test_f1_weighted']),  \n",
    "                  'balanced accuracy': np.mean(cv_ovr['test_balanced_accuracy'])})\n",
    "    \n",
    "    multi_start = perf_counter()\n",
    "    cv_multi = cross_validate(clf, X, y, cv=5, scoring=scoring, \n",
    "                                         verbose=True, n_jobs=2)\n",
    "    multi_finish = perf_counter()\n",
    "    score.append({'classifier': clf, \n",
    "                  'mode': 'multi',\n",
    "                  'time': multi_finish - multi_start,  \n",
    "                  'roc auc ovr': np.mean(cv_multi['test_roc_auc_ovr_weighted']),\n",
    "                  'roc auc ovo': np.mean(cv_multi['test_roc_auc_ovo_weighted']),\n",
    "                  'f1 macro': np.mean(cv_multi['test_f1_macro']),  \n",
    "                  'f1 weighted': np.mean(cv_multi['test_f1_weighted']),  \n",
    "                  'balanced accuracy': np.mean(cv_multi['test_balanced_accuracy'])})\n",
    "\n",
    "#     score.append({'Classifier': clf, \n",
    "#                   'OvO time': ovo_finish - ovo_start, \n",
    "#                   'OvR time': ovr_finish - ovr_start, \n",
    "#                   'Multiclass time': multi_finish - multi_start, \n",
    "#                   'OvO f1': np.mean(cv_ovo['test_f1_macro']), \n",
    "#                   'OvR f1': np.mean(cv_ovr['test_f1_macro']), \n",
    "#                   'Multiclass f1':np.mean(cv_multi['test_f1_macro']), \n",
    "#                   'OvO acc': np.mean(cv_ovo['test_balanced_accuracy']), \n",
    "#                   'OvR acc': np.mean(cv_ovr['test_balanced_accuracy']), \n",
    "#                   'Multiclass acc': np.mean(cv_multi['test_balanced_accuracy'])})\n",
    "#                   ,\n",
    "#                   'OvO ROC AUC OvO': cv_ovo['roc_auc_ovo_weighted'], \n",
    "#                   'OvR ROC AUC OvO': cv_ovr['roc_auc_ovo_weighted'], \n",
    "#                   'Multiclass ROC AUC OvO':cv_multi['roc_auc_ovo_weighted'], \n",
    "#                   'OvO ROC AUC OvR': cv_ovo['roc_auc_ovr_weighted'], \n",
    "#                   'OvR ROC AUC OvR': cv_ovr['roc_auc_ovr_weighted'], \n",
    "#                   'Multiclass ROC AUC OvR':cv_multi['roc_auc_ovr_weighted']})"
   ]
  },
  {
   "cell_type": "code",
   "execution_count": 74,
   "metadata": {},
   "outputs": [],
   "source": [
    "score_df = pd.DataFrame(score)"
   ]
  },
  {
   "cell_type": "code",
   "execution_count": 75,
   "metadata": {},
   "outputs": [
    {
     "data": {
      "text/html": [
       "<div>\n",
       "<style scoped>\n",
       "    .dataframe tbody tr th:only-of-type {\n",
       "        vertical-align: middle;\n",
       "    }\n",
       "\n",
       "    .dataframe tbody tr th {\n",
       "        vertical-align: top;\n",
       "    }\n",
       "\n",
       "    .dataframe thead th {\n",
       "        text-align: right;\n",
       "    }\n",
       "</style>\n",
       "<table border=\"1\" class=\"dataframe\">\n",
       "  <thead>\n",
       "    <tr style=\"text-align: right;\">\n",
       "      <th></th>\n",
       "      <th>classifier</th>\n",
       "      <th>mode</th>\n",
       "      <th>time</th>\n",
       "      <th>f1 macro</th>\n",
       "      <th>f1 weighted</th>\n",
       "      <th>balanced accuracy</th>\n",
       "      <th>roc auc ovr</th>\n",
       "      <th>roc auc ovo</th>\n",
       "    </tr>\n",
       "  </thead>\n",
       "  <tbody>\n",
       "    <tr>\n",
       "      <th>0</th>\n",
       "      <td>KNeighborsClassifier()</td>\n",
       "      <td>ovo</td>\n",
       "      <td>0.489774</td>\n",
       "      <td>0.522427</td>\n",
       "      <td>0.591219</td>\n",
       "      <td>0.554921</td>\n",
       "      <td>NaN</td>\n",
       "      <td>NaN</td>\n",
       "    </tr>\n",
       "    <tr>\n",
       "      <th>1</th>\n",
       "      <td>KNeighborsClassifier()</td>\n",
       "      <td>ovr</td>\n",
       "      <td>0.266410</td>\n",
       "      <td>0.535505</td>\n",
       "      <td>0.595097</td>\n",
       "      <td>0.575159</td>\n",
       "      <td>0.828614</td>\n",
       "      <td>0.843803</td>\n",
       "    </tr>\n",
       "    <tr>\n",
       "      <th>2</th>\n",
       "      <td>KNeighborsClassifier()</td>\n",
       "      <td>multi</td>\n",
       "      <td>0.124337</td>\n",
       "      <td>0.516398</td>\n",
       "      <td>0.577174</td>\n",
       "      <td>0.551071</td>\n",
       "      <td>0.828614</td>\n",
       "      <td>0.843803</td>\n",
       "    </tr>\n",
       "    <tr>\n",
       "      <th>3</th>\n",
       "      <td>LogisticRegression()</td>\n",
       "      <td>ovo</td>\n",
       "      <td>1.511244</td>\n",
       "      <td>0.392281</td>\n",
       "      <td>0.507087</td>\n",
       "      <td>0.434405</td>\n",
       "      <td>NaN</td>\n",
       "      <td>NaN</td>\n",
       "    </tr>\n",
       "    <tr>\n",
       "      <th>4</th>\n",
       "      <td>LogisticRegression()</td>\n",
       "      <td>ovr</td>\n",
       "      <td>0.699024</td>\n",
       "      <td>0.333318</td>\n",
       "      <td>0.497738</td>\n",
       "      <td>0.385298</td>\n",
       "      <td>0.767028</td>\n",
       "      <td>0.806815</td>\n",
       "    </tr>\n",
       "    <tr>\n",
       "      <th>5</th>\n",
       "      <td>LogisticRegression()</td>\n",
       "      <td>multi</td>\n",
       "      <td>0.255950</td>\n",
       "      <td>0.408289</td>\n",
       "      <td>0.524475</td>\n",
       "      <td>0.445040</td>\n",
       "      <td>0.782388</td>\n",
       "      <td>0.820278</td>\n",
       "    </tr>\n",
       "    <tr>\n",
       "      <th>6</th>\n",
       "      <td>SVC(kernel='linear', probability=True)</td>\n",
       "      <td>ovo</td>\n",
       "      <td>0.342666</td>\n",
       "      <td>0.457824</td>\n",
       "      <td>0.538089</td>\n",
       "      <td>0.500298</td>\n",
       "      <td>NaN</td>\n",
       "      <td>NaN</td>\n",
       "    </tr>\n",
       "    <tr>\n",
       "      <th>7</th>\n",
       "      <td>SVC(kernel='linear', probability=True)</td>\n",
       "      <td>ovr</td>\n",
       "      <td>0.370829</td>\n",
       "      <td>0.351663</td>\n",
       "      <td>0.431185</td>\n",
       "      <td>0.418829</td>\n",
       "      <td>0.735344</td>\n",
       "      <td>0.758036</td>\n",
       "    </tr>\n",
       "    <tr>\n",
       "      <th>8</th>\n",
       "      <td>SVC(kernel='linear', probability=True)</td>\n",
       "      <td>multi</td>\n",
       "      <td>0.155746</td>\n",
       "      <td>0.445727</td>\n",
       "      <td>0.528091</td>\n",
       "      <td>0.481548</td>\n",
       "      <td>0.798101</td>\n",
       "      <td>0.826817</td>\n",
       "    </tr>\n",
       "  </tbody>\n",
       "</table>\n",
       "</div>"
      ],
      "text/plain": [
       "                               classifier   mode      time  f1 macro  \\\n",
       "0                  KNeighborsClassifier()    ovo  0.489774  0.522427   \n",
       "1                  KNeighborsClassifier()    ovr  0.266410  0.535505   \n",
       "2                  KNeighborsClassifier()  multi  0.124337  0.516398   \n",
       "3                    LogisticRegression()    ovo  1.511244  0.392281   \n",
       "4                    LogisticRegression()    ovr  0.699024  0.333318   \n",
       "5                    LogisticRegression()  multi  0.255950  0.408289   \n",
       "6  SVC(kernel='linear', probability=True)    ovo  0.342666  0.457824   \n",
       "7  SVC(kernel='linear', probability=True)    ovr  0.370829  0.351663   \n",
       "8  SVC(kernel='linear', probability=True)  multi  0.155746  0.445727   \n",
       "\n",
       "   f1 weighted  balanced accuracy  roc auc ovr  roc auc ovo  \n",
       "0     0.591219           0.554921          NaN          NaN  \n",
       "1     0.595097           0.575159     0.828614     0.843803  \n",
       "2     0.577174           0.551071     0.828614     0.843803  \n",
       "3     0.507087           0.434405          NaN          NaN  \n",
       "4     0.497738           0.385298     0.767028     0.806815  \n",
       "5     0.524475           0.445040     0.782388     0.820278  \n",
       "6     0.538089           0.500298          NaN          NaN  \n",
       "7     0.431185           0.418829     0.735344     0.758036  \n",
       "8     0.528091           0.481548     0.798101     0.826817  "
      ]
     },
     "execution_count": 75,
     "metadata": {},
     "output_type": "execute_result"
    }
   ],
   "source": [
    "score_df"
   ]
  }
 ],
 "metadata": {
  "kernelspec": {
   "display_name": "Python 3",
   "language": "python",
   "name": "python3"
  },
  "language_info": {
   "codemirror_mode": {
    "name": "ipython",
    "version": 3
   },
   "file_extension": ".py",
   "mimetype": "text/x-python",
   "name": "python",
   "nbconvert_exporter": "python",
   "pygments_lexer": "ipython3",
   "version": "3.7.1"
  }
 },
 "nbformat": 4,
 "nbformat_minor": 2
}
