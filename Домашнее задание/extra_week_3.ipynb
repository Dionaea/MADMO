{
 "cells": [
  {
   "cell_type": "markdown",
   "metadata": {},
   "source": [
    "# Multi-Label Classification Strategies\n",
    "In this task you deal with multiclass classification problem for [Glass Classification Data](https://www.kaggle.com/uciml/glass). Lets load the dataset."
   ]
  },
  {
   "cell_type": "code",
   "execution_count": 1,
   "metadata": {},
   "outputs": [
    {
     "name": "stderr",
     "output_type": "stream",
     "text": [
      "\"wget\" ­Ґ пў«пҐвбп ў­гваҐ­­Ґ© Ё«Ё ў­Ґи­Ґ©\n",
      "Є®¬ ­¤®©, ЁбЇ®«­пҐ¬®© Їа®Ја ¬¬®© Ё«Ё Ї ЄҐв­л¬ д ©«®¬.\n"
     ]
    }
   ],
   "source": [
    "# если вы работаете в Colab то запустите эти строчки\n",
    "\n",
    "#! wget https://raw.githubusercontent.com/aminovT/MADMO/blob/main/%D0%94%D0%BE%D0%BC%D0%B0%D1%88%D0%BD%D0%B5%D0%B5%20%D0%B7%D0%B0%D0%B4%D0%B0%D0%BD%D0%B8%D0%B5/data/glass.csv\n",
    "  \n",
    "# ! mkdir data\n",
    "\n",
    "# ! mv glass.csv data"
   ]
  },
  {
   "cell_type": "code",
   "execution_count": 1,
   "metadata": {},
   "outputs": [],
   "source": [
    "import pandas as pd"
   ]
  },
  {
   "cell_type": "code",
   "execution_count": 2,
   "metadata": {},
   "outputs": [
    {
     "data": {
      "text/html": [
       "<div>\n",
       "<style scoped>\n",
       "    .dataframe tbody tr th:only-of-type {\n",
       "        vertical-align: middle;\n",
       "    }\n",
       "\n",
       "    .dataframe tbody tr th {\n",
       "        vertical-align: top;\n",
       "    }\n",
       "\n",
       "    .dataframe thead th {\n",
       "        text-align: right;\n",
       "    }\n",
       "</style>\n",
       "<table border=\"1\" class=\"dataframe\">\n",
       "  <thead>\n",
       "    <tr style=\"text-align: right;\">\n",
       "      <th></th>\n",
       "      <th>RI</th>\n",
       "      <th>Na</th>\n",
       "      <th>Mg</th>\n",
       "      <th>Al</th>\n",
       "      <th>Si</th>\n",
       "      <th>K</th>\n",
       "      <th>Ca</th>\n",
       "      <th>Ba</th>\n",
       "      <th>Fe</th>\n",
       "      <th>Type</th>\n",
       "    </tr>\n",
       "  </thead>\n",
       "  <tbody>\n",
       "    <tr>\n",
       "      <th>119</th>\n",
       "      <td>1.51652</td>\n",
       "      <td>13.56</td>\n",
       "      <td>3.57</td>\n",
       "      <td>1.47</td>\n",
       "      <td>72.45</td>\n",
       "      <td>0.64</td>\n",
       "      <td>7.96</td>\n",
       "      <td>0.0</td>\n",
       "      <td>0.00</td>\n",
       "      <td>2</td>\n",
       "    </tr>\n",
       "    <tr>\n",
       "      <th>98</th>\n",
       "      <td>1.51689</td>\n",
       "      <td>12.67</td>\n",
       "      <td>2.88</td>\n",
       "      <td>1.71</td>\n",
       "      <td>73.21</td>\n",
       "      <td>0.73</td>\n",
       "      <td>8.54</td>\n",
       "      <td>0.0</td>\n",
       "      <td>0.00</td>\n",
       "      <td>2</td>\n",
       "    </tr>\n",
       "    <tr>\n",
       "      <th>125</th>\n",
       "      <td>1.51872</td>\n",
       "      <td>12.93</td>\n",
       "      <td>3.66</td>\n",
       "      <td>1.56</td>\n",
       "      <td>72.51</td>\n",
       "      <td>0.58</td>\n",
       "      <td>8.55</td>\n",
       "      <td>0.0</td>\n",
       "      <td>0.12</td>\n",
       "      <td>2</td>\n",
       "    </tr>\n",
       "  </tbody>\n",
       "</table>\n",
       "</div>"
      ],
      "text/plain": [
       "          RI     Na    Mg    Al     Si     K    Ca   Ba    Fe  Type\n",
       "119  1.51652  13.56  3.57  1.47  72.45  0.64  7.96  0.0  0.00     2\n",
       "98   1.51689  12.67  2.88  1.71  73.21  0.73  8.54  0.0  0.00     2\n",
       "125  1.51872  12.93  3.66  1.56  72.51  0.58  8.55  0.0  0.12     2"
      ]
     },
     "execution_count": 2,
     "metadata": {},
     "output_type": "execute_result"
    }
   ],
   "source": [
    "data = pd.read_csv('data/glass.csv')\n",
    "X, y = data.drop('Type', axis=1), data.Type\n",
    "data.sample(3)"
   ]
  },
  {
   "cell_type": "code",
   "execution_count": 32,
   "metadata": {},
   "outputs": [
    {
     "data": {
      "text/plain": [
       "(214, 9)"
      ]
     },
     "execution_count": 32,
     "metadata": {},
     "output_type": "execute_result"
    }
   ],
   "source": [
    "X.shape"
   ]
  },
  {
   "cell_type": "code",
   "execution_count": 3,
   "metadata": {
    "scrolled": true
   },
   "outputs": [
    {
     "data": {
      "text/plain": [
       "2    76\n",
       "1    70\n",
       "7    29\n",
       "3    17\n",
       "5    13\n",
       "6     9\n",
       "Name: Type, dtype: int64"
      ]
     },
     "execution_count": 3,
     "metadata": {},
     "output_type": "execute_result"
    }
   ],
   "source": [
    "y.value_counts()"
   ]
  },
  {
   "cell_type": "code",
   "execution_count": 38,
   "metadata": {},
   "outputs": [
    {
     "data": {
      "text/plain": [
       "2    0.355140\n",
       "1    0.327103\n",
       "7    0.135514\n",
       "3    0.079439\n",
       "5    0.060748\n",
       "6    0.042056\n",
       "Name: Type, dtype: float64"
      ]
     },
     "execution_count": 38,
     "metadata": {},
     "output_type": "execute_result"
    }
   ],
   "source": [
    "y.value_counts() / len(y)"
   ]
  },
  {
   "cell_type": "markdown",
   "metadata": {},
   "source": [
    "Признаки каждого стеклянного объекта соответствуют доле конкретного химического элемента в объекте. Целевая переменная соответствует типу стекла (6 классов).\n",
    "\n",
    "В этой задаче вам необходимо эмпирически сравнить временную сложность и производительность нескольких стратегий мультиклассовой классификации для разных алгоритмов. Рассмотрим следующие алгоритмы:\n",
    "* KNearestNeighbors (5 neighbors)\n",
    "* Logistic Regression\n",
    "* SVC \\[Support Vector Classification\\] (linear kernel)\n",
    "\n",
    "Обратите внимание, что все эти алгоритмы по умолчанию поддерживают **multiclass labeling**. Тем не менее, сравните этот подход с **OneVSRest** и **OneVSOne** подходы, применяемые к этим алгоритмам. Точнее, для каждой пары (алгоритм, подход) выполните 5-кратную перекрестную проверку данных и выведите оценку проверки и время вычисления (в виде таблицы).\n",
    "\n",
    "\n",
    "Обратите внимание, что набор данных является одновременно многоклассовым и несбалансированным, поэтому важно выбрать правильную оценку качества. Попробуйте разные показатели для оптимизации во время CV (например, точность, сбалансированная точность, f1, roc-auc).\n",
    "\n",
    "\n",
    "После этого ответьте на следующие вопросы:\n",
    "* Какой показатель вы бы выбрали для оптимизации во время перекрестной проверки и почему?\n",
    "* Для каких алгоритмов использование подхода OneVSRest / OneVSOne обеспечивает значительно лучшую производительность без значительного увеличения времени вычислений?"
   ]
  },
  {
   "cell_type": "code",
   "execution_count": 5,
   "metadata": {},
   "outputs": [],
   "source": [
    "# proper way to measure performance in modern Python! No time.time()!\n",
    "# see https://docs.python.org/3/library/time.html#time.perf_counter\n",
    "from time import perf_counter\n",
    "\n",
    "# funct to properly display numpy arrays inline, use instead of print\n",
    "from IPython.display import display\n",
    "\n",
    "from sklearn.multiclass import OneVsOneClassifier, OneVsRestClassifier"
   ]
  },
  {
   "cell_type": "code",
   "execution_count": 8,
   "metadata": {},
   "outputs": [],
   "source": [
    "from tqdm import tqdm_notebook"
   ]
  },
  {
   "cell_type": "code",
   "execution_count": 6,
   "metadata": {},
   "outputs": [],
   "source": [
    "from sklearn.neighbors import KNeighborsClassifier\n",
    "from sklearn.linear_model import LogisticRegression\n",
    "from sklearn.svm import SVC"
   ]
  },
  {
   "cell_type": "code",
   "execution_count": 7,
   "metadata": {},
   "outputs": [],
   "source": [
    "from sklearn.model_selection import cross_validate"
   ]
  },
  {
   "cell_type": "code",
   "execution_count": 21,
   "metadata": {},
   "outputs": [],
   "source": [
    "import numpy as np"
   ]
  },
  {
   "cell_type": "code",
   "execution_count": 13,
   "metadata": {},
   "outputs": [],
   "source": [
    "import psutil"
   ]
  },
  {
   "cell_type": "code",
   "execution_count": 15,
   "metadata": {
    "scrolled": true
   },
   "outputs": [
    {
     "data": {
      "text/plain": [
       "(4, 38.6)"
      ]
     },
     "execution_count": 15,
     "metadata": {},
     "output_type": "execute_result"
    }
   ],
   "source": [
    "psutil.cpu_count(), psutil.cpu_percent()"
   ]
  },
  {
   "cell_type": "code",
   "execution_count": 22,
   "metadata": {},
   "outputs": [
    {
     "name": "stderr",
     "output_type": "stream",
     "text": [
      "D:\\Anaconda\\lib\\site-packages\\ipykernel_launcher.py:6: TqdmDeprecationWarning: This function will be removed in tqdm==5.0.0\n",
      "Please use `tqdm.notebook.tqdm` instead of `tqdm.tqdm_notebook`\n",
      "  \n"
     ]
    },
    {
     "data": {
      "application/vnd.jupyter.widget-view+json": {
       "model_id": "5649fa2fcb4244c88fe6d898da228cb2",
       "version_major": 2,
       "version_minor": 0
      },
      "text/plain": [
       "HBox(children=(FloatProgress(value=0.0, max=3.0), HTML(value='')))"
      ]
     },
     "metadata": {},
     "output_type": "display_data"
    },
    {
     "name": "stderr",
     "output_type": "stream",
     "text": [
      "[Parallel(n_jobs=2)]: Using backend LokyBackend with 2 concurrent workers.\n",
      "[Parallel(n_jobs=2)]: Done   5 out of   5 | elapsed:    0.4s finished\n",
      "[Parallel(n_jobs=2)]: Using backend LokyBackend with 2 concurrent workers.\n",
      "[Parallel(n_jobs=2)]: Done   5 out of   5 | elapsed:    0.0s finished\n",
      "[Parallel(n_jobs=2)]: Using backend LokyBackend with 2 concurrent workers.\n",
      "[Parallel(n_jobs=2)]: Done   5 out of   5 | elapsed:    0.0s finished\n",
      "[Parallel(n_jobs=2)]: Using backend LokyBackend with 2 concurrent workers.\n",
      "[Parallel(n_jobs=2)]: Done   5 out of   5 | elapsed:    1.2s finished\n",
      "[Parallel(n_jobs=2)]: Using backend LokyBackend with 2 concurrent workers.\n",
      "[Parallel(n_jobs=2)]: Done   5 out of   5 | elapsed:    0.5s finished\n",
      "[Parallel(n_jobs=2)]: Using backend LokyBackend with 2 concurrent workers.\n",
      "[Parallel(n_jobs=2)]: Done   5 out of   5 | elapsed:    0.1s finished\n",
      "[Parallel(n_jobs=2)]: Using backend LokyBackend with 2 concurrent workers.\n",
      "[Parallel(n_jobs=2)]: Done   5 out of   5 | elapsed:    0.2s finished\n",
      "[Parallel(n_jobs=2)]: Using backend LokyBackend with 2 concurrent workers.\n",
      "[Parallel(n_jobs=2)]: Done   5 out of   5 | elapsed:    0.1s finished\n",
      "[Parallel(n_jobs=2)]: Using backend LokyBackend with 2 concurrent workers.\n"
     ]
    },
    {
     "name": "stdout",
     "output_type": "stream",
     "text": [
      "\n"
     ]
    },
    {
     "name": "stderr",
     "output_type": "stream",
     "text": [
      "[Parallel(n_jobs=2)]: Done   5 out of   5 | elapsed:    0.0s finished\n"
     ]
    }
   ],
   "source": [
    "# your code here\n",
    "clf_list = [KNeighborsClassifier(5), LogisticRegression(), SVC(kernel='linear')]\n",
    "scoring = ['balanced_accuracy','f1_macro']#, 'roc_auc_ovr_weighted', 'roc_auc_ovo_weighted']\n",
    "score = []\n",
    "\n",
    "for clf in tqdm_notebook(clf_list):\n",
    "    ovo_start = perf_counter()\n",
    "    cv_ovo = cross_validate(OneVsOneClassifier(clf), X, y, cv=5, scoring=scoring, verbose=True, n_jobs=2)\n",
    "    ovo_finish = perf_counter()\n",
    "\n",
    "    ovr_start = perf_counter()\n",
    "    cv_ovr = cross_validate(OneVsRestClassifier(clf), X, y, cv=5, scoring=scoring, verbose=True, n_jobs=2)\n",
    "    ovr_finish = perf_counter()\n",
    "    \n",
    "    multi_start = perf_counter()\n",
    "    cv_multi = cross_validate(clf, X, y, cv=5, scoring=scoring, verbose=True, n_jobs=2)\n",
    "    multi_finish = perf_counter()\n",
    "\n",
    "    score.append({'Classifier': clf, \n",
    "                  'OvO time': ovo_finish - ovo_start, \n",
    "                  'OvR time': ovr_finish - ovr_start, \n",
    "                  'Multiclass time': multi_finish - multi_start, \n",
    "                  'OvO f1': np.mean(cv_ovo['test_f1_macro']), \n",
    "                  'OvR f1': np.mean(cv_ovr['test_f1_macro']), \n",
    "                  'Multiclass f1':np.mean(cv_multi['test_f1_macro']), \n",
    "                  'OvO acc': np.mean(cv_ovo['test_balanced_accuracy']), \n",
    "                  'OvR acc': np.mean(cv_ovr['test_balanced_accuracy']), \n",
    "                  'Multiclass acc': np.mean(cv_multi['test_balanced_accuracy'])})\n",
    "#                   ,\n",
    "#                   'OvO ROC AUC OvO': cv_ovo['roc_auc_ovo_weighted'], \n",
    "#                   'OvR ROC AUC OvO': cv_ovr['roc_auc_ovo_weighted'], \n",
    "#                   'Multiclass ROC AUC OvO':cv_multi['roc_auc_ovo_weighted'], \n",
    "#                   'OvO ROC AUC OvR': cv_ovo['roc_auc_ovr_weighted'], \n",
    "#                   'OvR ROC AUC OvR': cv_ovr['roc_auc_ovr_weighted'], \n",
    "#                   'Multiclass ROC AUC OvR':cv_multi['roc_auc_ovr_weighted']})"
   ]
  },
  {
   "cell_type": "code",
   "execution_count": 23,
   "metadata": {},
   "outputs": [],
   "source": [
    "score_df = pd.DataFrame(score)"
   ]
  },
  {
   "cell_type": "code",
   "execution_count": 24,
   "metadata": {},
   "outputs": [
    {
     "data": {
      "text/html": [
       "<div>\n",
       "<style scoped>\n",
       "    .dataframe tbody tr th:only-of-type {\n",
       "        vertical-align: middle;\n",
       "    }\n",
       "\n",
       "    .dataframe tbody tr th {\n",
       "        vertical-align: top;\n",
       "    }\n",
       "\n",
       "    .dataframe thead th {\n",
       "        text-align: right;\n",
       "    }\n",
       "</style>\n",
       "<table border=\"1\" class=\"dataframe\">\n",
       "  <thead>\n",
       "    <tr style=\"text-align: right;\">\n",
       "      <th></th>\n",
       "      <th>Classifier</th>\n",
       "      <th>OvO time</th>\n",
       "      <th>OvR time</th>\n",
       "      <th>Multiclass time</th>\n",
       "      <th>OvO f1</th>\n",
       "      <th>OvR f1</th>\n",
       "      <th>Multiclass f1</th>\n",
       "      <th>OvO acc</th>\n",
       "      <th>OvR acc</th>\n",
       "      <th>Multiclass acc</th>\n",
       "    </tr>\n",
       "  </thead>\n",
       "  <tbody>\n",
       "    <tr>\n",
       "      <th>0</th>\n",
       "      <td>KNeighborsClassifier()</td>\n",
       "      <td>0.475098</td>\n",
       "      <td>0.147715</td>\n",
       "      <td>0.047719</td>\n",
       "      <td>0.522427</td>\n",
       "      <td>0.535505</td>\n",
       "      <td>0.516398</td>\n",
       "      <td>0.554921</td>\n",
       "      <td>0.575159</td>\n",
       "      <td>0.551071</td>\n",
       "    </tr>\n",
       "    <tr>\n",
       "      <th>1</th>\n",
       "      <td>LogisticRegression()</td>\n",
       "      <td>1.321981</td>\n",
       "      <td>0.558672</td>\n",
       "      <td>0.152940</td>\n",
       "      <td>0.392281</td>\n",
       "      <td>0.333318</td>\n",
       "      <td>0.408289</td>\n",
       "      <td>0.434405</td>\n",
       "      <td>0.385298</td>\n",
       "      <td>0.445040</td>\n",
       "    </tr>\n",
       "    <tr>\n",
       "      <th>2</th>\n",
       "      <td>SVC(kernel='linear')</td>\n",
       "      <td>0.297201</td>\n",
       "      <td>0.164740</td>\n",
       "      <td>0.050116</td>\n",
       "      <td>0.457824</td>\n",
       "      <td>0.351663</td>\n",
       "      <td>0.445727</td>\n",
       "      <td>0.500298</td>\n",
       "      <td>0.418829</td>\n",
       "      <td>0.481548</td>\n",
       "    </tr>\n",
       "  </tbody>\n",
       "</table>\n",
       "</div>"
      ],
      "text/plain": [
       "               Classifier  OvO time  OvR time  Multiclass time    OvO f1  \\\n",
       "0  KNeighborsClassifier()  0.475098  0.147715         0.047719  0.522427   \n",
       "1    LogisticRegression()  1.321981  0.558672         0.152940  0.392281   \n",
       "2    SVC(kernel='linear')  0.297201  0.164740         0.050116  0.457824   \n",
       "\n",
       "     OvR f1  Multiclass f1   OvO acc   OvR acc  Multiclass acc  \n",
       "0  0.535505       0.516398  0.554921  0.575159        0.551071  \n",
       "1  0.333318       0.408289  0.434405  0.385298        0.445040  \n",
       "2  0.351663       0.445727  0.500298  0.418829        0.481548  "
      ]
     },
     "execution_count": 24,
     "metadata": {},
     "output_type": "execute_result"
    }
   ],
   "source": [
    "score_df"
   ]
  }
 ],
 "metadata": {
  "kernelspec": {
   "display_name": "Python 3",
   "language": "python",
   "name": "python3"
  },
  "language_info": {
   "codemirror_mode": {
    "name": "ipython",
    "version": 3
   },
   "file_extension": ".py",
   "mimetype": "text/x-python",
   "name": "python",
   "nbconvert_exporter": "python",
   "pygments_lexer": "ipython3",
   "version": "3.7.1"
  }
 },
 "nbformat": 4,
 "nbformat_minor": 2
}
