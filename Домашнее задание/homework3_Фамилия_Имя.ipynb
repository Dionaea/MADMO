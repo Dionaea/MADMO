{
  "nbformat": 4,
  "nbformat_minor": 0,
  "metadata": {
    "kernelspec": {
      "display_name": "Python 3",
      "language": "python",
      "name": "python3"
    },
    "language_info": {
      "codemirror_mode": {
        "name": "ipython",
        "version": 3
      },
      "file_extension": ".py",
      "mimetype": "text/x-python",
      "name": "python",
      "nbconvert_exporter": "python",
      "pygments_lexer": "ipython3",
      "version": "3.8.3"
    },
    "colab": {
      "name": "homework3_Фамилия_Имя",
      "provenance": []
    }
  },
  "cells": [
    {
      "cell_type": "markdown",
      "metadata": {
        "id": "abAk5AFDIq2s"
      },
      "source": [
        "### Чтение данных.\n",
        "Воспользуемся данными переписи населения. Целевая переменная - salary. Вам предлагается сделать бинарную классификацию, и определить по остальным признакам зарплату человека."
      ]
    },
    {
      "cell_type": "code",
      "metadata": {
        "id": "tpNPvcvzIq2z"
      },
      "source": [
        "import pandas as pd\n",
        "import numpy as np\n",
        "\n",
        "# Считываем данные\n",
        "df = pd.read_csv('https://archive.ics.uci.edu/ml/machine-learning-databases/adult/adult.data',)\n",
        "\n",
        "# Назначаем имена колонок\n",
        "columns = ('age workclass fnlwgt education educ-num marital-status occupation relationship '\n",
        "           'race sex capital-gain capital-loss  hours-per-week native-country salary')\n",
        "\n",
        "df.columns = columns.split() #этот метод разделит датасет по колонкам как в массиве columns\n",
        "\n",
        "df.drop('education', 1, inplace=True) # это поле нам не понадобится, т.к. есть educ-num\n",
        "df['salary>50'] = df['salary'].map({' <=50K': 0, ' >50K': 1}) # подготовим целевую переменную\n",
        "\n",
        "df.head()"
      ],
      "execution_count": null,
      "outputs": []
    },
    {
      "cell_type": "markdown",
      "metadata": {
        "id": "Di7l0VLMIq20"
      },
      "source": [
        "### 1. Анализ данных\n",
        "1. Посмотрите, как вероятность зарабатывать >50K зависит от переменной `workclass`. (подсказка: `sns.barplot`)"
      ]
    },
    {
      "cell_type": "code",
      "metadata": {
        "id": "y4pae3bYIq21"
      },
      "source": [
        "import matplotlib.pyplot as plt\n",
        "import seaborn as sns\n",
        "\n",
        "# YOUR CODE HERE"
      ],
      "execution_count": null,
      "outputs": []
    },
    {
      "cell_type": "markdown",
      "metadata": {
        "id": "mw8PS0SJIq21"
      },
      "source": [
        "2. Так же от `educ-num` и `race`"
      ]
    },
    {
      "cell_type": "code",
      "metadata": {
        "id": "lg_yfJ4hIq21"
      },
      "source": [
        "# YOUR CODE HERE"
      ],
      "execution_count": null,
      "outputs": []
    },
    {
      "cell_type": "code",
      "metadata": {
        "id": "HmnSPeYhIq22"
      },
      "source": [
        "# YOUR CODE HERE"
      ],
      "execution_count": null,
      "outputs": []
    },
    {
      "cell_type": "markdown",
      "metadata": {
        "id": "SSBPmo6pIq22"
      },
      "source": [
        "3. Постройте распределения по возрасту для двух значений целевой переменной (подсказка: `sns.violonplot`)"
      ]
    },
    {
      "cell_type": "code",
      "metadata": {
        "id": "65ilAauEIq22"
      },
      "source": [
        "# YOUR CODE HERE"
      ],
      "execution_count": null,
      "outputs": []
    },
    {
      "cell_type": "markdown",
      "metadata": {
        "id": "e-fNifctIq22"
      },
      "source": [
        "Любые другие зависимости по желанию"
      ]
    },
    {
      "cell_type": "code",
      "metadata": {
        "id": "hLlRBMAFIq23"
      },
      "source": [
        "# YOUR CODE HERE"
      ],
      "execution_count": null,
      "outputs": []
    },
    {
      "cell_type": "markdown",
      "metadata": {
        "id": "mPhJ_2xNIq23"
      },
      "source": [
        "### 2. Подготовка данных"
      ]
    },
    {
      "cell_type": "code",
      "metadata": {
        "id": "TnPQaw2NIq23"
      },
      "source": [
        "X = df.iloc[:, :-2]\n",
        "y = df['salary>50']\n",
        "y.unique()"
      ],
      "execution_count": null,
      "outputs": []
    },
    {
      "cell_type": "markdown",
      "metadata": {
        "id": "TOZtpNfGIq23"
      },
      "source": [
        "Разбейте датасет на тренировочную и тестовую части в соотношении 80:20. Используйте `random_state=42`"
      ]
    },
    {
      "cell_type": "code",
      "metadata": {
        "id": "hDOcLesaIq24"
      },
      "source": [
        "from sklearn.model_selection import train_test_split\n",
        "\n",
        "# YOUR CODE HERE\n",
        "X_train, X_test, y_train, y_test = ..."
      ],
      "execution_count": null,
      "outputs": []
    },
    {
      "cell_type": "markdown",
      "metadata": {
        "id": "AFAT0EyYIq24"
      },
      "source": [
        "#### One-hot encoding\n",
        "Сделайте one-hot-encoding категориальных признаков.  \n",
        "Только не используйте `pd.get_dummies`, потому что данные уже разбиты на трейн и тест.  \n",
        "Возможно, в тесте некоторых категорий не хватает.  \n",
        "К тому же, подумайте, как Вы будете использовать `get_dummies`, когда нужно будет разворачивать модель на продакшен?  \n",
        "На проде будет приходить по одному примеру, а `get_dummies` работает с целыми наборами данных.  \n",
        "\n",
        "Поэтому, используйте класс `sklearn.preprocessing.OneHotEncoder` (описание: https://scikit-learn.org/stable/modules/generated/sklearn.preprocessing.OneHotEncoder.html).  \n",
        "По использованию он похож на `StandardScaler`."
      ]
    },
    {
      "cell_type": "code",
      "metadata": {
        "id": "8sfds3McIq24"
      },
      "source": [
        "categorical_columns = 'workclass marital-status occupation relationship race sex native-country'.split()\n",
        "\n",
        "# YOUR CODE HERE"
      ],
      "execution_count": null,
      "outputs": []
    },
    {
      "cell_type": "markdown",
      "metadata": {
        "id": "haI-q8n4Iq25"
      },
      "source": [
        "Отмасштабируйте признаки с помощью `StandardScaler`"
      ]
    },
    {
      "cell_type": "code",
      "metadata": {
        "id": "yRRYU0btIq25"
      },
      "source": [
        "# YOUR CODE HERE"
      ],
      "execution_count": null,
      "outputs": []
    },
    {
      "cell_type": "markdown",
      "metadata": {
        "id": "vbyccS7BIq25"
      },
      "source": [
        "### 3. Обучение моделей\n",
        "Создайте любую модель и обучите на этих тренировочных данных. Сделайте предсказания на тестовых данных и сохраните в переменной `predictions`. Добейтесь того, чтобы `f1_score` на тестовых данных был не меньше `0.66`"
      ]
    },
    {
      "cell_type": "code",
      "metadata": {
        "id": "TdHhDWadIq26"
      },
      "source": [
        "# YOUR CODE HERE"
      ],
      "execution_count": null,
      "outputs": []
    },
    {
      "cell_type": "code",
      "metadata": {
        "id": "QakHXAT8Iq27"
      },
      "source": [
        "from sklearn.metrics import f1_score\n",
        "\n",
        "print('f1_score:', f1_score(y_test, predictions))"
      ],
      "execution_count": null,
      "outputs": []
    },
    {
      "cell_type": "markdown",
      "metadata": {
        "id": "53qMF_EpIq27"
      },
      "source": [
        "### *4. Кривая обучения"
      ]
    },
    {
      "cell_type": "markdown",
      "metadata": {
        "id": "uZdVJq4cIq27"
      },
      "source": [
        "Как зависит качество модели от количества обучающих данных?  \n",
        "Выясните это, построив график.  \n",
        "Обучите логистическую регрессию сначала на 1% обучающей выборки, потом на 2% и т.д. до 100%. Измеряйте каждый раз `f1_score` на тестовых данных. Постройте график зависимости `f1_score` от количества данных."
      ]
    },
    {
      "cell_type": "code",
      "metadata": {
        "id": "635DjboOIq28"
      },
      "source": [
        "# YOUR CODE HERE"
      ],
      "execution_count": null,
      "outputs": []
    },
    {
      "cell_type": "code",
      "metadata": {
        "id": "w126hILyIq28"
      },
      "source": [
        ""
      ],
      "execution_count": null,
      "outputs": []
    }
  ]
}